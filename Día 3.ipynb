{
  "nbformat": 4,
  "nbformat_minor": 0,
  "metadata": {
    "colab": {
      "provenance": [],
      "authorship_tag": "ABX9TyNNTFvPYqgLXu9FOTuL5hOi",
      "include_colab_link": true
    },
    "kernelspec": {
      "name": "python3",
      "display_name": "Python 3"
    },
    "language_info": {
      "name": "python"
    }
  },
  "cells": [
    {
      "cell_type": "markdown",
      "metadata": {
        "id": "view-in-github",
        "colab_type": "text"
      },
      "source": [
        "<a href=\"https://colab.research.google.com/github/jalvarez2410/Python/blob/main/D%C3%ADa%203.ipynb\" target=\"_parent\"><img src=\"https://colab.research.google.com/assets/colab-badge.svg\" alt=\"Open In Colab\"/></a>"
      ]
    },
    {
      "cell_type": "code",
      "execution_count": null,
      "metadata": {
        "id": "8yNMpJZxgIF7",
        "colab": {
          "base_uri": "https://localhost:8080/"
        },
        "outputId": "230fbb29-737c-4afc-9f56-bc72097031e9"
      },
      "outputs": [
        {
          "output_type": "stream",
          "name": "stdout",
          "text": [
            "1\n",
            "1.5\n",
            "2.0\n",
            "2.5\n",
            "3.0\n",
            "3.5\n",
            "4.0\n",
            "4.5\n",
            "5.0\n"
          ]
        }
      ],
      "source": [
        "contador =1\n",
        "while contador <=5:\n",
        "  print(contador)\n",
        "  contador= contador + 0.5"
      ]
    },
    {
      "cell_type": "code",
      "source": [
        "edad=0\n",
        "while edad <=18:\n",
        "  edad=edad+1\n",
        "  print(\"Felicidades, tienes \" + str(edad))"
      ],
      "metadata": {
        "colab": {
          "base_uri": "https://localhost:8080/"
        },
        "id": "FZebTNoYOP2Q",
        "outputId": "4900009f-0f9c-42e5-b8b5-d4e7fbecd367"
      },
      "execution_count": null,
      "outputs": [
        {
          "output_type": "stream",
          "name": "stdout",
          "text": [
            "Felicidades, tienes 1\n",
            "Felicidades, tienes 2\n",
            "Felicidades, tienes 3\n",
            "Felicidades, tienes 4\n",
            "Felicidades, tienes 5\n",
            "Felicidades, tienes 6\n",
            "Felicidades, tienes 7\n",
            "Felicidades, tienes 8\n",
            "Felicidades, tienes 9\n",
            "Felicidades, tienes 10\n",
            "Felicidades, tienes 11\n",
            "Felicidades, tienes 12\n",
            "Felicidades, tienes 13\n",
            "Felicidades, tienes 14\n",
            "Felicidades, tienes 15\n",
            "Felicidades, tienes 16\n",
            "Felicidades, tienes 17\n",
            "Felicidades, tienes 18\n",
            "Felicidades, tienes 19\n"
          ]
        }
      ]
    },
    {
      "cell_type": "code",
      "source": [
        "#Ejercicio\n",
        "numeros= 0\n",
        "while numeros <=99:\n",
        "  numeros= numeros + 1\n",
        "  print(\"Número\", numeros)"
      ],
      "metadata": {
        "colab": {
          "base_uri": "https://localhost:8080/"
        },
        "id": "h_6d1QJ6Ohsk",
        "outputId": "87c54bc0-14d1-4f6b-96b4-b6e681922a15"
      },
      "execution_count": null,
      "outputs": [
        {
          "output_type": "stream",
          "name": "stdout",
          "text": [
            "Número 1\n",
            "Número 2\n",
            "Número 3\n",
            "Número 4\n",
            "Número 5\n",
            "Número 6\n",
            "Número 7\n",
            "Número 8\n",
            "Número 9\n",
            "Número 10\n",
            "Número 11\n",
            "Número 12\n",
            "Número 13\n",
            "Número 14\n",
            "Número 15\n",
            "Número 16\n",
            "Número 17\n",
            "Número 18\n",
            "Número 19\n",
            "Número 20\n",
            "Número 21\n",
            "Número 22\n",
            "Número 23\n",
            "Número 24\n",
            "Número 25\n",
            "Número 26\n",
            "Número 27\n",
            "Número 28\n",
            "Número 29\n",
            "Número 30\n",
            "Número 31\n",
            "Número 32\n",
            "Número 33\n",
            "Número 34\n",
            "Número 35\n",
            "Número 36\n",
            "Número 37\n",
            "Número 38\n",
            "Número 39\n",
            "Número 40\n",
            "Número 41\n",
            "Número 42\n",
            "Número 43\n",
            "Número 44\n",
            "Número 45\n",
            "Número 46\n",
            "Número 47\n",
            "Número 48\n",
            "Número 49\n",
            "Número 50\n",
            "Número 51\n",
            "Número 52\n",
            "Número 53\n",
            "Número 54\n",
            "Número 55\n",
            "Número 56\n",
            "Número 57\n",
            "Número 58\n",
            "Número 59\n",
            "Número 60\n",
            "Número 61\n",
            "Número 62\n",
            "Número 63\n",
            "Número 64\n",
            "Número 65\n",
            "Número 66\n",
            "Número 67\n",
            "Número 68\n",
            "Número 69\n",
            "Número 70\n",
            "Número 71\n",
            "Número 72\n",
            "Número 73\n",
            "Número 74\n",
            "Número 75\n",
            "Número 76\n",
            "Número 77\n",
            "Número 78\n",
            "Número 79\n",
            "Número 80\n",
            "Número 81\n",
            "Número 82\n",
            "Número 83\n",
            "Número 84\n",
            "Número 85\n",
            "Número 86\n",
            "Número 87\n",
            "Número 88\n",
            "Número 89\n",
            "Número 90\n",
            "Número 91\n",
            "Número 92\n",
            "Número 93\n",
            "Número 94\n",
            "Número 95\n",
            "Número 96\n",
            "Número 97\n",
            "Número 98\n",
            "Número 99\n",
            "Número 100\n"
          ]
        }
      ]
    },
    {
      "cell_type": "code",
      "source": [
        "#Ejercicio\n",
        "numeros= 0\n",
        "while numeros <50:\n",
        "  numeros= numeros + 1\n",
        "  if numeros%2:\n",
        "    print(numeros)"
      ],
      "metadata": {
        "colab": {
          "base_uri": "https://localhost:8080/"
        },
        "id": "SAUsepp6O9hP",
        "outputId": "0758346a-56cf-4830-dc33-76cc18729ea6"
      },
      "execution_count": null,
      "outputs": [
        {
          "output_type": "stream",
          "name": "stdout",
          "text": [
            "1\n",
            "3\n",
            "5\n",
            "7\n",
            "9\n",
            "11\n",
            "13\n",
            "15\n",
            "17\n",
            "19\n",
            "21\n",
            "23\n",
            "25\n",
            "27\n",
            "29\n",
            "31\n",
            "33\n",
            "35\n",
            "37\n",
            "39\n",
            "41\n",
            "43\n",
            "45\n",
            "47\n",
            "49\n"
          ]
        }
      ]
    },
    {
      "cell_type": "code",
      "source": [
        "#Ejercicio\n",
        "numeros= 1\n",
        "\n",
        "while numeros <=10:\n",
        "  expo= numeros**2\n",
        "  print(expo)\n",
        "  numeros +=1"
      ],
      "metadata": {
        "colab": {
          "base_uri": "https://localhost:8080/"
        },
        "id": "6fxT-nJDPO7V",
        "outputId": "42cf7153-9ab8-4d82-aa36-fa86b17974b6"
      },
      "execution_count": null,
      "outputs": [
        {
          "output_type": "stream",
          "name": "stdout",
          "text": [
            "1\n",
            "4\n",
            "9\n",
            "16\n",
            "25\n",
            "36\n",
            "49\n",
            "64\n",
            "81\n",
            "100\n"
          ]
        }
      ]
    },
    {
      "cell_type": "code",
      "source": [
        "numeros = [1,2,3,4,5]\n",
        "print(numeros)\n",
        "for i in numeros:\n",
        "  print(i)"
      ],
      "metadata": {
        "colab": {
          "base_uri": "https://localhost:8080/"
        },
        "id": "IHHVoEwjS_EE",
        "outputId": "085f7220-bb05-44f9-d8c7-7c67ae78278a"
      },
      "execution_count": null,
      "outputs": [
        {
          "output_type": "stream",
          "name": "stdout",
          "text": [
            "[1, 2, 3, 4, 5]\n",
            "1\n",
            "2\n",
            "3\n",
            "4\n",
            "5\n"
          ]
        }
      ]
    },
    {
      "cell_type": "code",
      "source": [
        "texto= \"Python es un lenguaje de programación fantástico\"\n",
        "contador_a=0\n",
        "for i in range(len(texto)):\n",
        "  if texto[i] ==\"a\":\n",
        "    contador_a+=1\n",
        "print(f\"El número de letras 'a en el texto es: {contador_a}\")\n"
      ],
      "metadata": {
        "colab": {
          "base_uri": "https://localhost:8080/"
        },
        "id": "fQtRuuORThyD",
        "outputId": "b6302859-f463-4d47-fa39-71c569b777cd"
      },
      "execution_count": null,
      "outputs": [
        {
          "output_type": "stream",
          "name": "stdout",
          "text": [
            "El número de letras 'a en el texto es: 4\n"
          ]
        }
      ]
    },
    {
      "cell_type": "code",
      "source": [
        "numeros=[1,2,3,4,5,6,7,8,9,10]\n",
        "for numero in numeros:\n",
        "  print(\"Revisando número: \", numero)\n",
        "  if numero ==5:\n",
        "    print(\"Número encontrado\", numero)\n",
        "    break\n",
        "\n"
      ],
      "metadata": {
        "colab": {
          "base_uri": "https://localhost:8080/"
        },
        "id": "fqlaCMRRU_Mw",
        "outputId": "6251aa0e-ac4d-4578-dca5-55f53292e0da"
      },
      "execution_count": null,
      "outputs": [
        {
          "output_type": "stream",
          "name": "stdout",
          "text": [
            "Revisando número:  1\n",
            "Revisando número:  2\n",
            "Revisando número:  3\n",
            "Revisando número:  4\n",
            "Revisando número:  5\n",
            "Número encontrado 5\n"
          ]
        }
      ]
    },
    {
      "cell_type": "code",
      "source": [
        "numeros=[1,2,3,4,5,6,7,8,9,10]\n",
        "for numero in numeros:\n",
        "  if numero%2==0:\n",
        "    continue\n",
        "  print(\"Número impar:\", numero)\n"
      ],
      "metadata": {
        "colab": {
          "base_uri": "https://localhost:8080/"
        },
        "id": "i-w1IdxwWWhi",
        "outputId": "9b9adde7-5b4e-475d-9415-38f13cc68139"
      },
      "execution_count": null,
      "outputs": [
        {
          "output_type": "stream",
          "name": "stdout",
          "text": [
            "Número impar: 1\n",
            "Número impar: 3\n",
            "Número impar: 5\n",
            "Número impar: 7\n",
            "Número impar: 9\n"
          ]
        }
      ]
    },
    {
      "cell_type": "code",
      "source": [
        "for i in range(100):\n",
        "  print(i)"
      ],
      "metadata": {
        "colab": {
          "base_uri": "https://localhost:8080/"
        },
        "id": "tB8D6qIjXo7-",
        "outputId": "b2f47681-6a5b-4104-d887-3a9112ff7769"
      },
      "execution_count": null,
      "outputs": [
        {
          "output_type": "stream",
          "name": "stdout",
          "text": [
            "0\n",
            "1\n",
            "2\n",
            "3\n",
            "4\n",
            "5\n",
            "6\n",
            "7\n",
            "8\n",
            "9\n",
            "10\n",
            "11\n",
            "12\n",
            "13\n",
            "14\n",
            "15\n",
            "16\n",
            "17\n",
            "18\n",
            "19\n",
            "20\n",
            "21\n",
            "22\n",
            "23\n",
            "24\n",
            "25\n",
            "26\n",
            "27\n",
            "28\n",
            "29\n",
            "30\n",
            "31\n",
            "32\n",
            "33\n",
            "34\n",
            "35\n",
            "36\n",
            "37\n",
            "38\n",
            "39\n",
            "40\n",
            "41\n",
            "42\n",
            "43\n",
            "44\n",
            "45\n",
            "46\n",
            "47\n",
            "48\n",
            "49\n",
            "50\n",
            "51\n",
            "52\n",
            "53\n",
            "54\n",
            "55\n",
            "56\n",
            "57\n",
            "58\n",
            "59\n",
            "60\n",
            "61\n",
            "62\n",
            "63\n",
            "64\n",
            "65\n",
            "66\n",
            "67\n",
            "68\n",
            "69\n",
            "70\n",
            "71\n",
            "72\n",
            "73\n",
            "74\n",
            "75\n",
            "76\n",
            "77\n",
            "78\n",
            "79\n",
            "80\n",
            "81\n",
            "82\n",
            "83\n",
            "84\n",
            "85\n",
            "86\n",
            "87\n",
            "88\n",
            "89\n",
            "90\n",
            "91\n",
            "92\n",
            "93\n",
            "94\n",
            "95\n",
            "96\n",
            "97\n",
            "98\n",
            "99\n"
          ]
        }
      ]
    },
    {
      "cell_type": "code",
      "source": [
        "\n",
        "for i in range(1,51):\n",
        "  if i%2!=0:\n",
        "    print(i)"
      ],
      "metadata": {
        "colab": {
          "base_uri": "https://localhost:8080/"
        },
        "id": "iDEVWV2bXxIU",
        "outputId": "a61fe745-2f0d-43bc-de9f-5d3253abbe4c"
      },
      "execution_count": null,
      "outputs": [
        {
          "output_type": "stream",
          "name": "stdout",
          "text": [
            "1\n",
            "3\n",
            "5\n",
            "7\n",
            "9\n",
            "11\n",
            "13\n",
            "15\n",
            "17\n",
            "19\n",
            "21\n",
            "23\n",
            "25\n",
            "27\n",
            "29\n",
            "31\n",
            "33\n",
            "35\n",
            "37\n",
            "39\n",
            "41\n",
            "43\n",
            "45\n",
            "47\n",
            "49\n"
          ]
        }
      ]
    },
    {
      "cell_type": "code",
      "source": [
        "n = int(input(\"Ingrese un número: \" ))\n",
        "fact = 1\n",
        "\n",
        "for i in range(1, n+1):\n",
        "    fact = fact * i\n",
        "\n",
        "print(\"El factorial es : \", end=\"\")\n",
        "print(fact)"
      ],
      "metadata": {
        "colab": {
          "base_uri": "https://localhost:8080/"
        },
        "id": "J5qbRPJeYWSD",
        "outputId": "654acb64-f23e-45f4-b73e-f6d0821fcbc2"
      },
      "execution_count": null,
      "outputs": [
        {
          "output_type": "stream",
          "name": "stdout",
          "text": [
            "Ingrese un número: 1\n",
            "El factorial es : 1\n"
          ]
        }
      ]
    },
    {
      "cell_type": "code",
      "source": [
        "\n",
        "def funcion(a,b):\n",
        "  a=1\n",
        "  b=3\n",
        "  c=a+b\n",
        "\n",
        "  return c\n",
        "\n",
        "\n",
        "print(c)"
      ],
      "metadata": {
        "colab": {
          "base_uri": "https://localhost:8080/",
          "height": 176
        },
        "id": "IzELwjeWat-S",
        "outputId": "8536c818-eb10-40fe-f815-f3ff8efddb63"
      },
      "execution_count": null,
      "outputs": [
        {
          "output_type": "error",
          "ename": "NameError",
          "evalue": "name 'c' is not defined",
          "traceback": [
            "\u001b[0;31m---------------------------------------------------------------------------\u001b[0m",
            "\u001b[0;31mNameError\u001b[0m                                 Traceback (most recent call last)",
            "\u001b[0;32m<ipython-input-75-7fc74bb75d74>\u001b[0m in \u001b[0;36m<cell line: 11>\u001b[0;34m()\u001b[0m\n\u001b[1;32m      9\u001b[0m \u001b[0;34m\u001b[0m\u001b[0m\n\u001b[1;32m     10\u001b[0m \u001b[0;34m\u001b[0m\u001b[0m\n\u001b[0;32m---> 11\u001b[0;31m \u001b[0mprint\u001b[0m\u001b[0;34m(\u001b[0m\u001b[0mc\u001b[0m\u001b[0;34m)\u001b[0m\u001b[0;34m\u001b[0m\u001b[0;34m\u001b[0m\u001b[0m\n\u001b[0m",
            "\u001b[0;31mNameError\u001b[0m: name 'c' is not defined"
          ]
        }
      ]
    },
    {
      "cell_type": "code",
      "source": [
        "def funcionHola():\n",
        "  print(\"Hola mundo\")\n",
        "\n",
        "funcionHola()"
      ],
      "metadata": {
        "colab": {
          "base_uri": "https://localhost:8080/"
        },
        "id": "bxPaADEpcpwZ",
        "outputId": "8724cc75-d081-4dd1-c04b-2bedca555dd9"
      },
      "execution_count": null,
      "outputs": [
        {
          "output_type": "stream",
          "name": "stdout",
          "text": [
            "Hola mundo\n"
          ]
        }
      ]
    }
  ]
}