{
  "nbformat": 4,
  "nbformat_minor": 0,
  "metadata": {
    "colab": {
      "provenance": [],
      "authorship_tag": "ABX9TyO1XeEyNqKhuCETSni7YwqJ",
      "include_colab_link": true
    },
    "kernelspec": {
      "name": "python3",
      "display_name": "Python 3"
    },
    "language_info": {
      "name": "python"
    }
  },
  "cells": [
    {
      "cell_type": "markdown",
      "metadata": {
        "id": "view-in-github",
        "colab_type": "text"
      },
      "source": [
        "<a href=\"https://colab.research.google.com/github/jalvarez2410/Python/blob/main/D%C3%ADa%204.ipynb\" target=\"_parent\"><img src=\"https://colab.research.google.com/assets/colab-badge.svg\" alt=\"Open In Colab\"/></a>"
      ]
    },
    {
      "cell_type": "markdown",
      "source": [
        "#Ejercicio 1\n",
        "Escriba un programa que calcule el factorial de un número."
      ],
      "metadata": {
        "id": "fhEzTm1lxQc3"
      }
    },
    {
      "cell_type": "code",
      "execution_count": 3,
      "metadata": {
        "colab": {
          "base_uri": "https://localhost:8080/"
        },
        "id": "kYJcDOt6w85I",
        "outputId": "f9406989-ce0a-4e03-cf31-32d068e93667"
      },
      "outputs": [
        {
          "output_type": "stream",
          "name": "stdout",
          "text": [
            "362880\n"
          ]
        }
      ],
      "source": [
        "def factorial(n):\n",
        "  if n==0:\n",
        "    return 1\n",
        "  else:\n",
        "    return n * factorial (n-1)\n",
        "\n",
        "print(factorial(9))"
      ]
    },
    {
      "cell_type": "markdown",
      "source": [
        "#Ejercicio 2\n",
        "\n",
        "2. En virtud del problema de la tarea 2, veamos el caso particular de Tim.\n",
        "\n",
        "Tim tiene actualmente 14 años y quiere saber cuántos años le faltan para poder votar en las próximas elecciones las leyes electorales estipulan que una persona es capaz de votar si tiene al menos 18 años, es un ciudadano registrado de la comunidad y no tiene restricciones legales que le impidan votar.\n",
        "\n",
        "Para ayudar a Tim y a personas como él, se le ha pedido que deesarrolle un programa en Python que:\n",
        "\n",
        "a. Utilice una función para verificar si Tim cumple con los requisitos para votar.\n",
        "b. Utilice un ciclo para calcular cuántos años faltan hasta que Tim sea elegible para votar.\n",
        "c. Imprima un mensaje que indique cuántos años le faltan a Tim para poder votar.\n"
      ],
      "metadata": {
        "id": "bRcWtQg_xUjc"
      }
    },
    {
      "cell_type": "code",
      "source": [
        "def verificar_eligibilidad_para_votar(edad, es_ciudadano, tiene_restricciones):\n",
        "\n",
        "    edad_minima_para_votar = 18\n",
        "\n",
        "    if edad >= edad_minima_para_votar and es_ciudadano and not tiene_restricciones:\n",
        "        return \"La persona puede votar.\"\n",
        "    else:\n",
        "        anos_faltantes = max(0, edad_minima_para_votar - edad)\n",
        "        if anos_faltantes > 0:\n",
        "            return f\"La persona no puede votar. Le faltan {anos_faltantes} años para poder votar.\"\n",
        "        elif not es_ciudadano:\n",
        "            return \"La persona no puede votar porque no es un ciudadano registrado.\"\n",
        "        elif tiene_restricciones:\n",
        "            return \"La persona no puede votar debido a restricciones legales.\"\n",
        "        else:\n",
        "            return \"La persona no puede votar.\"\n",
        "\n",
        "# Datos de Tim\n",
        "edad_tim = int(input(\"Ingrese la edad actual de Tim: \"))\n",
        "es_ciudadano_tim = True\n",
        "tiene_restricciones_tim = False\n",
        "\n",
        "# Verificar la elegibilidad de Tim para votar\n",
        "mensaje = verificar_eligibilidad_para_votar(edad_tim, es_ciudadano_tim, tiene_restricciones_tim)\n",
        "print(mensaje)\n"
      ],
      "metadata": {
        "colab": {
          "base_uri": "https://localhost:8080/"
        },
        "id": "rLWpci78xX1z",
        "outputId": "3a4b386b-6c57-4d94-b85d-1b8709db2197"
      },
      "execution_count": 5,
      "outputs": [
        {
          "output_type": "stream",
          "name": "stdout",
          "text": [
            "Ingrese la edad actual de Tim: 16\n",
            "La persona no puede votar. Le faltan 2 años para poder votar.\n"
          ]
        }
      ]
    }
  ]
}