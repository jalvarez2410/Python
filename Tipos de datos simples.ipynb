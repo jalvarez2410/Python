{
  "nbformat": 4,
  "nbformat_minor": 0,
  "metadata": {
    "colab": {
      "provenance": [],
      "authorship_tag": "ABX9TyNu9akm2OQKcmXM8qVNVSM9",
      "include_colab_link": true
    },
    "kernelspec": {
      "name": "python3",
      "display_name": "Python 3"
    },
    "language_info": {
      "name": "python"
    }
  },
  "cells": [
    {
      "cell_type": "markdown",
      "metadata": {
        "id": "view-in-github",
        "colab_type": "text"
      },
      "source": [
        "<a href=\"https://colab.research.google.com/github/jalvarez2410/Python/blob/main/Tipos%20de%20datos%20simples.ipynb\" target=\"_parent\"><img src=\"https://colab.research.google.com/assets/colab-badge.svg\" alt=\"Open In Colab\"/></a>"
      ]
    },
    {
      "cell_type": "markdown",
      "source": [
        "#Ejercicio 1\n",
        "Escribir un programa que muestre por pantalla la cadena ¡Hola Mundo!![Captura de pantalla 2024-06-20 124259.png](data:image/png;base64,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)"
      ],
      "metadata": {
        "id": "7jETvOtw68Ya"
      }
    },
    {
      "cell_type": "code",
      "execution_count": null,
      "metadata": {
        "colab": {
          "base_uri": "https://localhost:8080/"
        },
        "id": "Zy9BU4vo63Z2",
        "outputId": "9436b07c-8715-4a8e-ea87-1865369157d8"
      },
      "outputs": [
        {
          "output_type": "stream",
          "name": "stdout",
          "text": [
            "¡Hola Mundo!\n"
          ]
        }
      ],
      "source": [
        "print(\"¡Hola Mundo!\")"
      ]
    },
    {
      "cell_type": "markdown",
      "source": [
        "#Ejercicio 2\n",
        "Escribir un programa que almacene la cadena ¡Hola Mundo! en una variable y luego muestre por pantalla el contenido de la variable."
      ],
      "metadata": {
        "id": "Jdczu0B87FQA"
      }
    },
    {
      "cell_type": "code",
      "execution_count": null,
      "metadata": {
        "colab": {
          "base_uri": "https://localhost:8080/"
        },
        "id": "StDHrEGM7FQE",
        "outputId": "e7e3125d-cfb9-4d9e-dad1-fb5a36ef99dd"
      },
      "outputs": [
        {
          "output_type": "stream",
          "name": "stdout",
          "text": [
            "¡Hola Mundo!\n"
          ]
        }
      ],
      "source": [
        "a= \"¡Hola Mundo!\"\n",
        "print(a)"
      ]
    },
    {
      "cell_type": "markdown",
      "source": [
        "#Ejercicio 3\n",
        "Escribir un programa que pregunte el nombre del usuario en la consola y después de que el usuario lo introduzca muestre por pantalla la cadena ¡Hola <nombre>!, donde <nombre> es el nombre que el usuario haya introducido."
      ],
      "metadata": {
        "id": "YiyOGwtU7Fbe"
      }
    },
    {
      "cell_type": "code",
      "execution_count": null,
      "metadata": {
        "colab": {
          "base_uri": "https://localhost:8080/"
        },
        "id": "1cedaJ-d7Fbf",
        "outputId": "60f10373-69df-45a6-8242-a7ded62340dc"
      },
      "outputs": [
        {
          "output_type": "stream",
          "name": "stdout",
          "text": [
            "Introduce tu nombre: José\n",
            "¡Hola José !\n"
          ]
        }
      ],
      "source": [
        "nombre= input(\"Introduce tu nombre: \")\n",
        "print(\"¡Hola\", nombre,\"!\")"
      ]
    },
    {
      "cell_type": "markdown",
      "source": [
        "#Ejercicio 4\n",
        "Escribir un programa que muestre por pantalla el resultado de la siguiente operación aritmética\n",
        "\n",
        "((3+2)/(2*5))al cuadrado."
      ],
      "metadata": {
        "id": "U9H5CNwl7Fmj"
      }
    },
    {
      "cell_type": "code",
      "execution_count": null,
      "metadata": {
        "colab": {
          "base_uri": "https://localhost:8080/"
        },
        "id": "J3IEVI8c7Fml",
        "outputId": "72ea4a12-25b6-48f0-fa52-12513658f3ba"
      },
      "outputs": [
        {
          "output_type": "stream",
          "name": "stdout",
          "text": [
            "0.25\n"
          ]
        }
      ],
      "source": [
        "resultado= ((3+2)/(2*5))**2\n",
        "print(resultado)"
      ]
    },
    {
      "cell_type": "markdown",
      "source": [
        "#Ejercicio 5\n",
        "Escribir un programa que pregunte al usuario por el número de horas trabajadas y el coste por hora. Después debe mostrar por pantalla la paga que le corresponde."
      ],
      "metadata": {
        "id": "t10OlydQ7Fyd"
      }
    },
    {
      "cell_type": "code",
      "execution_count": null,
      "metadata": {
        "colab": {
          "base_uri": "https://localhost:8080/"
        },
        "id": "TNjK-zfF7Fye",
        "outputId": "66d44be3-a6c7-406e-a2a9-90237a9604d0"
      },
      "outputs": [
        {
          "output_type": "stream",
          "name": "stdout",
          "text": [
            "¿Cuántas horas trabaja? 8\n",
            "¿Cuánto le pagan por hora?26.7\n",
            "213.6\n"
          ]
        }
      ],
      "source": [
        "horas= int(input(\"¿Cuántas horas trabaja? \"))\n",
        "paga= float(input(\"¿Cuánto le pagan por hora?\"))\n",
        "print(horas*paga)"
      ]
    },
    {
      "cell_type": "markdown",
      "source": [
        "#Ejercicio 6\n",
        "Escribir un programa que lea un entero positivo,\n",
        ", introducido por el usuario y después muestre en pantalla la suma de todos los enteros desde 1 hasta\n",
        ". La suma de los\n",
        " primeros enteros positivos puede ser calculada de la siguiente forma:\n",
        " suma=(n(n+1))/2"
      ],
      "metadata": {
        "id": "_TxVIZff7F-J"
      }
    },
    {
      "cell_type": "code",
      "execution_count": null,
      "metadata": {
        "colab": {
          "base_uri": "https://localhost:8080/"
        },
        "id": "KAOx3x0p7F-K",
        "outputId": "2b022a6f-76a0-4fa4-c55a-95e9ae67b4f5"
      },
      "outputs": [
        {
          "output_type": "stream",
          "name": "stdout",
          "text": [
            "Introduce un número entero: 5\n",
            "15.0\n",
            "<class 'float'>\n"
          ]
        }
      ],
      "source": [
        "n= int(input(\"Introduce un número entero: \"))\n",
        "suma= (n*(n+1))/2\n",
        "print(suma)\n",
        "print(type(suma))"
      ]
    },
    {
      "cell_type": "markdown",
      "source": [
        "#Ejercicio 7\n",
        "Escribir un programa que pida al usuario su peso (en kg) y estatura (en metros), calcule el índice de masa corporal y lo almacene en una variable, y muestre por pantalla la frase Tu índice de masa corporal es <imc> donde <imc> es el índice de masa corporal calculado redondeado con dos decimales."
      ],
      "metadata": {
        "id": "JRHDmjl37GNX"
      }
    },
    {
      "cell_type": "code",
      "execution_count": null,
      "metadata": {
        "colab": {
          "base_uri": "https://localhost:8080/"
        },
        "id": "g1EK-Qgs7GNY",
        "outputId": "49a2a268-d700-4932-e681-f9bf87b7699f"
      },
      "outputs": [
        {
          "output_type": "stream",
          "name": "stdout",
          "text": [
            "Ingresa tu peso en kilogramos: 156\n",
            "Ingresa tu altura en metros: 1.67\n",
            "Tú índice de masa corporal es 55.94\n"
          ]
        }
      ],
      "source": [
        "peso= float(input(\"Ingresa tu peso en kilogramos: \"))\n",
        "estatura= float(input(\"Ingresa tu altura en metros: \"))\n",
        "imc= ((peso)/(estatura**2))\n",
        "print(\"Tú índice de masa corporal es\", round(imc,2))"
      ]
    },
    {
      "cell_type": "markdown",
      "source": [
        "#Ejercicio 8\n",
        "Escribir un programa que pida al usuario dos números enteros y muestre por pantalla la <n> entre <m> da un cociente <c> y un resto <r> donde <n> y <m> son los números introducidos por el usuario, y <c> y <r> son el cociente y el resto de la división entera respectivamente."
      ],
      "metadata": {
        "id": "fW143bxz7Gfh"
      }
    },
    {
      "cell_type": "code",
      "execution_count": null,
      "metadata": {
        "colab": {
          "base_uri": "https://localhost:8080/"
        },
        "id": "HLe59h9H7Gfi",
        "outputId": "37d62d5e-4832-41b7-9000-6b68e8044513"
      },
      "outputs": [
        {
          "output_type": "stream",
          "name": "stdout",
          "text": [
            "Introduce el primer número entero (numerador): 57\n",
            "Introduce el segundo número entero (denominador): 6\n",
            "9.5 3\n"
          ]
        }
      ],
      "source": [
        "numero1= int(input(\"Introduce el primer número entero (numerador): \"))\n",
        "numero2= int(input(\"Introduce el segundo número entero (denominador): \"))\n",
        "cociente= numero1/numero2\n",
        "resto= numero1 % numero2\n",
        "print(cociente, resto)"
      ]
    },
    {
      "cell_type": "markdown",
      "source": [
        "#Ejercicio 9\n",
        "\n",
        "Escribir un programa que pregunte al usuario una cantidad a invertir, el interés anual y el número de años, y muestre por pantalla el capital obtenido en la inversión."
      ],
      "metadata": {
        "id": "6xlYBjSh7GpD"
      }
    },
    {
      "cell_type": "code",
      "execution_count": null,
      "metadata": {
        "colab": {
          "base_uri": "https://localhost:8080/"
        },
        "id": "Ake011EC7GpF",
        "outputId": "eacdc4f5-4840-4d69-a97d-55cecaec8fb7"
      },
      "outputs": [
        {
          "output_type": "stream",
          "name": "stdout",
          "text": [
            "Cantidad a invertir: 1565\n",
            "Número de años de la inversión: 5\n",
            "Porciento de interés anual: 12\n",
            "939.0\n"
          ]
        }
      ],
      "source": [
        "cantidad= float(input(\"Cantidad a invertir: \"))\n",
        "años= int(input(\"Número de años de la inversión: \"))\n",
        "interes= float(input(\"Porciento de interés anual: \"))\n",
        "print(cantidad * años * (interes/100))"
      ]
    },
    {
      "cell_type": "markdown",
      "source": [
        "#Ejercicio 10\n",
        "\n",
        "Una juguetería tiene mucho éxito en dos de sus productos: payasos y muñecas. Suele hacer venta por correo y la empresa de logística les cobra por peso de cada paquete así que deben calcular el peso de los payasos y muñecas que saldrán en cada paquete a demanda. Cada payaso pesa 112 g y cada muñeca 75 g. Escribir un programa que lea el número de payasos y muñecas vendidos en el último pedido y calcule el peso total del paquete que será enviado."
      ],
      "metadata": {
        "id": "ITL_aAbf7Gx-"
      }
    },
    {
      "cell_type": "code",
      "execution_count": null,
      "metadata": {
        "colab": {
          "base_uri": "https://localhost:8080/"
        },
        "id": "sw-3GeDy7Gx_",
        "outputId": "eccc4fe1-8c58-4c98-d6ca-88c4ae1ed34a"
      },
      "outputs": [
        {
          "output_type": "stream",
          "name": "stdout",
          "text": [
            "Número total de payasos vendidos: 15564\n",
            "Número total de muñecas vendidas: 13255\n",
            "El número total de payasos vendidos es: 15564 Y el peso total de estos es: 1743168 gramos\n",
            "El número total de muñecas vendidas es: 13255 Y el peso total de estas es: 994125 gramos\n"
          ]
        }
      ],
      "source": [
        "payasos= int(input(\"Número total de payasos vendidos: \"))\n",
        "muñecas= int(input(\"Número total de muñecas vendidas: \"))\n",
        "print(\"El número total de payasos vendidos es:\", payasos, \"Y el peso total de estos es:\", round((payasos * 112),2), \"gramos\")\n",
        "print(\"El número total de muñecas vendidas es:\", muñecas, \"Y el peso total de estas es:\", round((muñecas *75),2), \"gramos\")"
      ]
    },
    {
      "cell_type": "markdown",
      "source": [
        "#Ejercicio 11\n",
        "\n",
        "Imagina que acabas de abrir una nueva cuenta de ahorros que te ofrece el 4% de interés al año. Estos ahorros debido a intereses, que no se cobran hasta finales de año, se te añaden al balance final de tu cuenta de ahorros. Escribir un programa que comience leyendo la cantidad de dinero depositada en la cuenta de ahorros, introducida por el usuario. Después el programa debe calcular y mostrar por pantalla la cantidad de ahorros tras el primer, segundo y tercer años. Redondear cada cantidad a dos decimales."
      ],
      "metadata": {
        "id": "o2JlCyh7IwN5"
      }
    },
    {
      "cell_type": "code",
      "source": [
        "dinero_inicial= float(input(\"Cantidad de dinero depositada en la cuenta de ahorros: \"))\n",
        "interes= dinero_inicial*0.04\n",
        "for i in range(3):\n",
        "  año= 0\n",
        "  año+=1\n",
        "  print(i * (interes*dinero_inicial))\n"
      ],
      "metadata": {
        "colab": {
          "base_uri": "https://localhost:8080/"
        },
        "id": "0Drk_M3EIckv",
        "outputId": "8ba1bb4b-68f5-4d07-c3e7-d070890951d6"
      },
      "execution_count": null,
      "outputs": [
        {
          "output_type": "stream",
          "name": "stdout",
          "text": [
            "Cantidad de dinero depositada en la cuenta de ahorros: 5\n",
            "0.0\n",
            "1.0\n",
            "2.0\n"
          ]
        }
      ]
    },
    {
      "cell_type": "markdown",
      "source": [
        "# Ejercicio 12\n",
        "Una panadería vende barras de pan a 3.49€ cada una. El pan que no es el día tiene un descuento del 60%. Escribir un programa que comience leyendo el número de barras vendidas que no son del día. Después el programa debe mostrar el precio habitual de una barra de pan, el descuento que se le hace por no ser fresca y el coste final total."
      ],
      "metadata": {
        "id": "rLIaXWtJLBD6"
      }
    },
    {
      "cell_type": "code",
      "source": [
        "no_vendida= int(input(\"Ingresa el número de panes que no se vendieron: \"))\n",
        "print(\"El precio regular de un pas es de: \", 3.94, \"Euros\")\n",
        "print(\"El descuento por no ser del día es del 60%.\", \"\\nPor lo que usted tiene que pagar un total de:\", (no_vendida*0.6), \"Euros\")"
      ],
      "metadata": {
        "id": "YJE9P6s9LGLZ",
        "colab": {
          "base_uri": "https://localhost:8080/"
        },
        "outputId": "edba386d-d0ba-472b-f23a-9feea3b7e5bc"
      },
      "execution_count": null,
      "outputs": [
        {
          "output_type": "stream",
          "name": "stdout",
          "text": [
            "Ingresa el número de panes que no se vendieron: 50\n",
            "El precio regular de un pas es de:  3.94 Euros\n",
            "El descuento por no ser del día es del 60%. \n",
            "Por lo que usted tiene que pagar un total de: 30.0 Euros\n"
          ]
        }
      ]
    },
    {
      "cell_type": "code",
      "source": [
        "print( 5*\\n2)"
      ],
      "metadata": {
        "id": "GOuEbm1tOv6L",
        "outputId": "dde1a168-a425-4069-9857-d672959102ad",
        "colab": {
          "base_uri": "https://localhost:8080/",
          "height": 106
        }
      },
      "execution_count": null,
      "outputs": [
        {
          "output_type": "error",
          "ename": "SyntaxError",
          "evalue": "unexpected character after line continuation character (<ipython-input-52-6e9c298fe6b0>, line 1)",
          "traceback": [
            "\u001b[0;36m  File \u001b[0;32m\"<ipython-input-52-6e9c298fe6b0>\"\u001b[0;36m, line \u001b[0;32m1\u001b[0m\n\u001b[0;31m    print( 5*\\n2)\u001b[0m\n\u001b[0m              ^\u001b[0m\n\u001b[0;31mSyntaxError\u001b[0m\u001b[0;31m:\u001b[0m unexpected character after line continuation character\n"
          ]
        }
      ]
    }
  ]
}