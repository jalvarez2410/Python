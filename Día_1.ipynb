{
  "nbformat": 4,
  "nbformat_minor": 0,
  "metadata": {
    "colab": {
      "provenance": [],
      "authorship_tag": "ABX9TyObDOQRRNZCdeE1IwsWFGtx",
      "include_colab_link": true
    },
    "kernelspec": {
      "name": "python3",
      "display_name": "Python 3"
    },
    "language_info": {
      "name": "python"
    }
  },
  "cells": [
    {
      "cell_type": "markdown",
      "metadata": {
        "id": "view-in-github",
        "colab_type": "text"
      },
      "source": [
        "<a href=\"https://colab.research.google.com/github/jalvarez2410/Python/blob/main/D%C3%ADa_1.ipynb\" target=\"_parent\"><img src=\"https://colab.research.google.com/assets/colab-badge.svg\" alt=\"Open In Colab\"/></a>"
      ]
    },
    {
      "cell_type": "markdown",
      "source": [
        "# Ejercicio 1:\n",
        "  Muestre en pantalla la raza, el color y la edad de dos perros. Cada uno se debe mostrar en una línea en pantalla.\n"
      ],
      "metadata": {
        "id": "STAyG4k7KW3P"
      }
    },
    {
      "cell_type": "code",
      "source": [
        "raza1= str(input(\"¿Cuál es la raza del primer perro? \"))\n",
        "color1= str(input(\"¿Cuál es el color del primer perro? \"))\n",
        "edad1= int(input(\"¿Cuál es la edad del primer perro? \"))\n",
        "\n",
        "raza2= str(input(\"¿Cuál es la raza del segundo perro? \"))\n",
        "color2= str(input(\"¿Cuál es el color del segundo perro? \"))\n",
        "edad2= int(input(\"¿Cuál es la edad del segundo perro? \"))"
      ],
      "metadata": {
        "colab": {
          "base_uri": "https://localhost:8080/"
        },
        "id": "6ytoKEdhKwYn",
        "outputId": "e97db96c-0982-4daf-8b20-aedfdcdd8601"
      },
      "execution_count": null,
      "outputs": [
        {
          "name": "stdout",
          "output_type": "stream",
          "text": [
            "¿Cuál es la raza del primer perro? Doberman\n",
            "¿Cuál es el color del primer perro? Negro\n",
            "¿Cuál es la edad del primer perro? 3\n",
            "¿Cuál es la raza del segundo perro? Chihuahua\n",
            "¿Cuál es el color del segundo perro? Castaño\n",
            "¿Cuál es la edad del segundo perro? 2\n"
          ]
        }
      ]
    },
    {
      "cell_type": "markdown",
      "source": [
        "#Ejercicio 2:\n",
        "  Muestre en pantalla el resultado de a = 420, b = 356, c = 213, d = 673 con la siguiente operación:  ((a*b)/c)-d. Guarde el resultado en una variable, convierta esa variable a texto (string) y agregue la palabra \"operacion\" al final."
      ],
      "metadata": {
        "id": "VpwuVoFaKitm"
      }
    },
    {
      "cell_type": "code",
      "source": [
        "a,b,c,d= 420,356,213,673\n",
        "print((a*b/c)-d)"
      ],
      "metadata": {
        "colab": {
          "base_uri": "https://localhost:8080/"
        },
        "id": "mJyUAf9bK4AA",
        "outputId": "48ed307c-d0e8-4e04-84b8-926e9b24322a"
      },
      "execution_count": null,
      "outputs": [
        {
          "output_type": "stream",
          "name": "stdout",
          "text": [
            "28.971830985915517\n"
          ]
        }
      ]
    },
    {
      "cell_type": "markdown",
      "source": [
        "# Ejercicio 3:\n",
        "  Imagine que en un país ficticio, las tasas de impuestos fijos son las siguientes.\n",
        "- Para los ingresos de $10000, la tasa es de 5%\n",
        "- Para los ingresos entre $10001 y $20000 la tasa de impuesto es del 12%\n",
        "- Para los ingresos entre $20001 y $50000 la tasa de impuesto es del 23%\n",
        "- Para los ingresos superiores a $50000, la tasa de impuesto es del 36%\n",
        "Escriba un programa en Python que realice lo siguiente:\n",
        "1. Asigne un ingreso anual a una variable de forma directa en el código.\n",
        "2. Calcule y muestre la cantidad de impuestos que correspondería pagar según las tasas mencionadas, con el ingreso anual que usted ha definido en una variable.\n",
        "3. Su resultado debe mostrarse en pantalla de la siguiente manera:\n",
        "\"Con un ingreso anual de $35000, el impuesto fijo es de $8050.0.\""
      ],
      "metadata": {
        "id": "AfRJNi38Kmxa"
      }
    },
    {
      "cell_type": "code",
      "execution_count": null,
      "metadata": {
        "colab": {
          "base_uri": "https://localhost:8080/"
        },
        "id": "NTMMdMT3KSzu",
        "outputId": "8df74cf9-9c8c-4df7-9486-df67b2774867"
      },
      "outputs": [
        {
          "output_type": "stream",
          "name": "stdout",
          "text": [
            "¿Cuánto dinero gana al año? 50354\n",
            "Su tasa de int3erés a pagar es:  18127.44\n",
            "¿Cuánto dinero gana al año? 654\n",
            "Su tasa de interés a pagar es: 32.7\n",
            "¿Cuánto dinero gana al año? 354354\n",
            "Su tasa de int3erés a pagar es:  127567.44\n",
            "2\n"
          ]
        }
      ],
      "source": [
        "for i in range(3):\n",
        "  ingreso= int(input(\"¿Cuánto dinero gana al año? \"))\n",
        "\n",
        "  if ingreso <= 10000:\n",
        "    print(\"Su tasa de interés a pagar es:\", ingreso*0.05)\n",
        "  elif ingreso >=10000 and ingreso <=20000:\n",
        "    print(\"Su tasa de interés a pagar es: \", ingreso*0.12)\n",
        "  elif ingreso >=20001 and ingreso <=50000:\n",
        "    print(\"Su tasa de interés a pagar es: \", ingreso*0.23)\n",
        "  else:\n",
        "    print(\"Su tasa de int3erés a pagar es: \", ingreso*0.36)\n",
        "print(i)"
      ]
    }
  ]
}