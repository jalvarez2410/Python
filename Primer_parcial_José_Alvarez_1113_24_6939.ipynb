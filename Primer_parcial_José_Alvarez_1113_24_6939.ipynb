{
  "nbformat": 4,
  "nbformat_minor": 0,
  "metadata": {
    "colab": {
      "provenance": [],
      "authorship_tag": "ABX9TyNkE+5yDV3MbkZsDFNLFy7D"
    },
    "kernelspec": {
      "name": "python3",
      "display_name": "Python 3"
    },
    "language_info": {
      "name": "python"
    }
  },
  "cells": [
    {
      "cell_type": "code",
      "source": [
        "#Conjetura de Collatz\n",
        "n = int(input(\"Ingrese un número entero: \"))\n",
        "\n",
        "while n>1:\n",
        "  if n%2==0:\n",
        "    n= n/2\n",
        "    print(n)\n",
        "  else:\n",
        "    n= n*3+1\n",
        "    print(n)\n",
        "while n<1:\n",
        "  print(\"No cumples las condiciones\")\n",
        "  break"
      ],
      "metadata": {
        "outputId": "03fc753f-ede8-4f62-c704-f83bde65b99e",
        "colab": {
          "base_uri": "https://localhost:8080/"
        },
        "id": "UZi6hh4hOugb"
      },
      "execution_count": 10,
      "outputs": [
        {
          "output_type": "stream",
          "name": "stdout",
          "text": [
            "Ingrese un número entero: 2\n",
            "1.0\n"
          ]
        }
      ]
    }
  ]
}