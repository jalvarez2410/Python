{
  "nbformat": 4,
  "nbformat_minor": 0,
  "metadata": {
    "colab": {
      "provenance": [],
      "authorship_tag": "ABX9TyOImWJSexuV9ZRwUMgB+kcR",
      "include_colab_link": true
    },
    "kernelspec": {
      "name": "python3",
      "display_name": "Python 3"
    },
    "language_info": {
      "name": "python"
    }
  },
  "cells": [
    {
      "cell_type": "markdown",
      "metadata": {
        "id": "view-in-github",
        "colab_type": "text"
      },
      "source": [
        "<a href=\"https://colab.research.google.com/github/jalvarez2410/Python/blob/main/Funciones.ipynb\" target=\"_parent\"><img src=\"https://colab.research.google.com/assets/colab-badge.svg\" alt=\"Open In Colab\"/></a>"
      ]
    },
    {
      "cell_type": "markdown",
      "source": [
        "# Ejercicio 1\n",
        "Escribir una función que muestre por pantalla el saludo ¡Hola amiga! cada vez que se la invoque."
      ],
      "metadata": {
        "id": "dyoMYTzpGRHp"
      }
    },
    {
      "cell_type": "code",
      "execution_count": null,
      "metadata": {
        "colab": {
          "base_uri": "https://localhost:8080/",
          "height": 35
        },
        "id": "meT0mzzgGHxY",
        "outputId": "0c64520d-ecae-4e4f-ef76-99debcd0d78b"
      },
      "outputs": [
        {
          "output_type": "execute_result",
          "data": {
            "text/plain": [
              "'¡Hola amiga!'"
            ],
            "application/vnd.google.colaboratory.intrinsic+json": {
              "type": "string"
            }
          },
          "metadata": {},
          "execution_count": 1
        }
      ],
      "source": [
        "def hola():\n",
        "  return \"¡Hola amiga!\"\n",
        "\n",
        "hola()"
      ]
    },
    {
      "cell_type": "markdown",
      "source": [
        "# Ejercicio 2\n",
        "Escribir una función a la que se le pase una cadena <nombre> y muestre por pantalla el saludo ¡hola <nombre>!."
      ],
      "metadata": {
        "id": "xyJLPC5lHDvY"
      }
    },
    {
      "cell_type": "code",
      "source": [
        "def nombre():\n",
        "  return input(\"Ingresa el nombre:\")\n",
        "\n",
        "print(\"¡Hola\", nombre(), \"!\")"
      ],
      "metadata": {
        "colab": {
          "base_uri": "https://localhost:8080/"
        },
        "id": "gSS0eM7ZHFVy",
        "outputId": "3e64ec81-34b1-4f91-a38c-ee22d859f6b1"
      },
      "execution_count": null,
      "outputs": [
        {
          "output_type": "stream",
          "name": "stdout",
          "text": [
            "Ingresa el nombre:José\n",
            "¡Hola José !\n"
          ]
        }
      ]
    },
    {
      "cell_type": "markdown",
      "source": [
        "#Ejercicio 3\n",
        "Escribir una función que reciba un número entero positivo y devuelva su factorial."
      ],
      "metadata": {
        "id": "urx5Pc8sHtvJ"
      }
    },
    {
      "cell_type": "code",
      "source": [
        "def factorial():\n",
        "  numero=\n",
        "\n",
        "factorial()"
      ],
      "metadata": {
        "colab": {
          "base_uri": "https://localhost:8080/",
          "height": 106
        },
        "id": "C0VBGzQUHvWS",
        "outputId": "1a833878-a704-4887-ac39-3a1ffd980321"
      },
      "execution_count": null,
      "outputs": [
        {
          "output_type": "error",
          "ename": "IndentationError",
          "evalue": "expected an indented block after function definition on line 1 (<ipython-input-6-9bfc82f292f7>, line 3)",
          "traceback": [
            "\u001b[0;36m  File \u001b[0;32m\"<ipython-input-6-9bfc82f292f7>\"\u001b[0;36m, line \u001b[0;32m3\u001b[0m\n\u001b[0;31m    factorial()\u001b[0m\n\u001b[0m    ^\u001b[0m\n\u001b[0;31mIndentationError\u001b[0m\u001b[0;31m:\u001b[0m expected an indented block after function definition on line 1\n"
          ]
        }
      ]
    }
  ]
}
